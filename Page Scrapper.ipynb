{
 "cells": [
  {
   "cell_type": "code",
   "execution_count": 134,
   "id": "62815b24",
   "metadata": {},
   "outputs": [],
   "source": [
    "import time\n",
    "import requests\n",
    "import pandas as pd\n",
    "from tqdm import tqdm\n",
    "from bs4 import BeautifulSoup\n",
    "\n",
    "data = []\n",
    "df = pd.read_csv('Ted.csv')"
   ]
  },
  {
   "cell_type": "code",
   "execution_count": 138,
   "id": "7eded996",
   "metadata": {},
   "outputs": [
    {
     "data": {
      "text/plain": [
       "422"
      ]
     },
     "execution_count": 138,
     "metadata": {},
     "output_type": "execute_result"
    }
   ],
   "source": [
    "len(data)"
   ]
  },
  {
   "cell_type": "code",
   "execution_count": 139,
   "id": "f06a8014",
   "metadata": {},
   "outputs": [
    {
     "data": {
      "text/plain": [
       "5440"
      ]
     },
     "execution_count": 139,
     "metadata": {},
     "output_type": "execute_result"
    }
   ],
   "source": [
    "len(df['link'])"
   ]
  },
  {
   "cell_type": "code",
   "execution_count": 145,
   "id": "75f5f476",
   "metadata": {},
   "outputs": [
    {
     "name": "stderr",
     "output_type": "stream",
     "text": [
      "  4%|▍         | 193/4557 [07:28<2:49:03,  2.32s/it]\n",
      "  3%|▎         | 134/4364 [05:14<2:45:20,  2.35s/it]\n",
      "  0%|          | 6/4230 [00:17<3:19:37,  2.84s/it]\n",
      "  2%|▏         | 87/4224 [03:24<2:42:17,  2.35s/it]\n",
      "  1%|▏         | 59/4137 [02:15<2:35:44,  2.29s/it]\n",
      "  2%|▏         | 82/4078 [03:05<2:30:24,  2.26s/it]\n",
      "  3%|▎         | 130/3996 [05:00<2:29:02,  2.31s/it]\n",
      "  5%|▌         | 195/3866 [07:21<2:18:26,  2.26s/it]\n",
      "  6%|▋         | 230/3671 [08:55<2:13:29,  2.33s/it]\n",
      " 20%|█▉        | 683/3441 [26:36<1:47:26,  2.34s/it]\n",
      "  3%|▎         | 78/2758 [03:03<1:44:58,  2.35s/it]\n",
      "  2%|▏         | 62/2680 [02:23<1:41:19,  2.32s/it]\n",
      "  1%|▏         | 34/2618 [01:22<1:45:04,  2.44s/it]\n",
      " 13%|█▎        | 343/2584 [13:14<1:26:27,  2.31s/it]\n",
      " 20%|█▉        | 443/2241 [16:49<1:08:16,  2.28s/it]\n",
      "  1%|          | 10/1798 [00:24<1:12:29,  2.43s/it]\n",
      "  7%|▋         | 131/1788 [05:00<1:03:26,  2.30s/it]\n",
      "  6%|▌         | 101/1657 [03:52<59:47,  2.31s/it] \n",
      "  1%|          | 12/1556 [00:27<1:00:01,  2.33s/it]\n",
      "  1%|          | 17/1544 [00:41<1:02:11,  2.44s/it]\n",
      "  2%|▏         | 30/1527 [01:17<1:04:36,  2.59s/it]\n",
      "  6%|▋         | 95/1497 [03:41<54:24,  2.33s/it]  \n",
      "  2%|▏         | 32/1402 [01:18<55:51,  2.45s/it]  \n",
      "  1%|          | 9/1370 [00:22<57:45,  2.55s/it]  \n",
      "  3%|▎         | 39/1361 [01:30<51:22,  2.33s/it] \n",
      "  4%|▎         | 49/1322 [01:53<49:10,  2.32s/it]  \n",
      " 43%|████▎     | 542/1273 [21:52<29:30,  2.42s/it]  \n",
      " 21%|██        | 153/731 [05:49<21:58,  2.28s/it]\n",
      "  3%|▎         | 20/578 [00:52<24:33,  2.64s/it]\n",
      "  0%|          | 2/558 [00:07<35:04,  3.78s/it]\n",
      " 14%|█▍        | 77/556 [03:07<19:23,  2.43s/it]\n",
      "  0%|          | 1/479 [00:05<47:09,  5.92s/it]\n",
      " 34%|███▍      | 163/478 [06:13<12:01,  2.29s/it]\n",
      " 65%|██████▌   | 205/315 [07:40<04:07,  2.25s/it]\n",
      " 30%|███       | 33/110 [01:19<03:04,  2.40s/it]\n",
      "100%|██████████| 77/77 [02:57<00:00,  2.30s/it]\n"
     ]
    }
   ],
   "source": [
    "while (len(data) != len(df)):\n",
    "    \n",
    "    try:\n",
    "        for i in tqdm(range(len(data),len(df))):\n",
    "\n",
    "            try:\n",
    "                res = requests.get(df['link'][i])\n",
    "                soup = BeautifulSoup(res.text, 'html.parser')\n",
    "                temp = soup.find_all('div', class_ = 'text-base leading-md')\n",
    "                date   = temp[0].text\n",
    "                views  = temp[1].text[1:-6]\n",
    "                likes  = soup.find('button', class_ = 'rounded-sm text-sm font-medium md:w-max').text[6:-1]\n",
    "                author = soup.find('div', class_ = 'text-sm mr-2 font-bold text-gray-700').text\n",
    "                data.append([author, date, likes, views])\n",
    "            except:\n",
    "                res = requests.get(df['link'][i])\n",
    "                soup = BeautifulSoup(res.text, 'html.parser')\n",
    "                temp = soup.find_all('div', class_ = 'text-base leading-md')\n",
    "                date   = temp[0].text\n",
    "                views  = temp[1].text[1:-6]\n",
    "                likes  = soup.find('button', class_ = 'rounded-sm text-sm font-medium md:w-max').text[6:-1]\n",
    "                author = soup.find('div', class_ = 'text-sm mr-2 font-bold text-gray-700').text\n",
    "                data.append([author, date, likes, views])\n",
    "    except:\n",
    "        pass"
   ]
  },
  {
   "cell_type": "code",
   "execution_count": 146,
   "id": "287fcc88",
   "metadata": {},
   "outputs": [
    {
     "data": {
      "text/plain": [
       "5440"
      ]
     },
     "execution_count": 146,
     "metadata": {},
     "output_type": "execute_result"
    }
   ],
   "source": [
    "len(data)"
   ]
  },
  {
   "cell_type": "code",
   "execution_count": 147,
   "id": "72d267c6",
   "metadata": {},
   "outputs": [],
   "source": [
    "df = pd.DataFrame(data, columns = ['author','date','likes','views'])"
   ]
  },
  {
   "cell_type": "code",
   "execution_count": 148,
   "id": "ffb42cdb",
   "metadata": {},
   "outputs": [],
   "source": [
    "df.to_csv(\"TedX.csv\")"
   ]
  }
 ],
 "metadata": {
  "kernelspec": {
   "display_name": "Python 3",
   "language": "python",
   "name": "python3"
  },
  "language_info": {
   "codemirror_mode": {
    "name": "ipython",
    "version": 3
   },
   "file_extension": ".py",
   "mimetype": "text/x-python",
   "name": "python",
   "nbconvert_exporter": "python",
   "pygments_lexer": "ipython3",
   "version": "3.8.8"
  }
 },
 "nbformat": 4,
 "nbformat_minor": 5
}
